{
 "cells": [
  {
   "cell_type": "code",
   "execution_count": 1,
   "metadata": {},
   "outputs": [
    {
     "name": "stdout",
     "output_type": "stream",
     "text": [
      "Requirement already satisfied: pandas in c:\\programdata\\anaconda3\\lib\\site-packages (2.2.1)\n",
      "Requirement already satisfied: numpy<2,>=1.23.2 in c:\\programdata\\anaconda3\\lib\\site-packages (from pandas) (1.26.4)\n",
      "Requirement already satisfied: python-dateutil>=2.8.2 in c:\\programdata\\anaconda3\\lib\\site-packages (from pandas) (2.8.2)\n",
      "Requirement already satisfied: pytz>=2020.1 in c:\\programdata\\anaconda3\\lib\\site-packages (from pandas) (2023.3.post1)\n",
      "Requirement already satisfied: tzdata>=2022.7 in c:\\programdata\\anaconda3\\lib\\site-packages (from pandas) (2023.3)\n",
      "Requirement already satisfied: six>=1.5 in c:\\programdata\\anaconda3\\lib\\site-packages (from python-dateutil>=2.8.2->pandas) (1.16.0)\n",
      "Note: you may need to restart the kernel to use updated packages.\n"
     ]
    }
   ],
   "source": [
    "pip install pandas"
   ]
  },
  {
   "cell_type": "code",
   "execution_count": 12,
   "metadata": {},
   "outputs": [
    {
     "name": "stdout",
     "output_type": "stream",
     "text": [
      "Requirement already satisfied: numpy in c:\\programdata\\anaconda3\\lib\\site-packages (1.26.4)\n",
      "Note: you may need to restart the kernel to use updated packages.\n"
     ]
    }
   ],
   "source": [
    "pip install numpy"
   ]
  },
  {
   "cell_type": "code",
   "execution_count": 17,
   "metadata": {},
   "outputs": [
    {
     "name": "stdout",
     "output_type": "stream",
     "text": [
      "Requirement already satisfied: scipy in c:\\programdata\\anaconda3\\lib\\site-packages (1.11.4)\n",
      "Requirement already satisfied: numpy<1.28.0,>=1.21.6 in c:\\programdata\\anaconda3\\lib\\site-packages (from scipy) (1.26.4)\n",
      "Note: you may need to restart the kernel to use updated packages.\n"
     ]
    }
   ],
   "source": [
    "pip install scipy"
   ]
  },
  {
   "cell_type": "code",
   "execution_count": 2,
   "metadata": {},
   "outputs": [],
   "source": [
    "import pandas as pd #import"
   ]
  },
  {
   "cell_type": "code",
   "execution_count": 13,
   "metadata": {},
   "outputs": [],
   "source": [
    "import numpy as np #import"
   ]
  },
  {
   "cell_type": "code",
   "execution_count": 18,
   "metadata": {},
   "outputs": [],
   "source": [
    "import scipy.stats as stats"
   ]
  },
  {
   "cell_type": "code",
   "execution_count": 5,
   "metadata": {},
   "outputs": [
    {
     "data": {
      "text/html": [
       "<div>\n",
       "<style scoped>\n",
       "    .dataframe tbody tr th:only-of-type {\n",
       "        vertical-align: middle;\n",
       "    }\n",
       "\n",
       "    .dataframe tbody tr th {\n",
       "        vertical-align: top;\n",
       "    }\n",
       "\n",
       "    .dataframe thead th {\n",
       "        text-align: right;\n",
       "    }\n",
       "</style>\n",
       "<table border=\"1\" class=\"dataframe\">\n",
       "  <thead>\n",
       "    <tr style=\"text-align: right;\">\n",
       "      <th></th>\n",
       "      <th>Aluno</th>\n",
       "      <th>Nota_Prova1</th>\n",
       "      <th>Nota_Prova2</th>\n",
       "      <th>Nota_Trabalho</th>\n",
       "      <th>Frequencia (%)</th>\n",
       "    </tr>\n",
       "  </thead>\n",
       "  <tbody>\n",
       "    <tr>\n",
       "      <th>0</th>\n",
       "      <td>Aluno_1</td>\n",
       "      <td>7.745071</td>\n",
       "      <td>3.952333</td>\n",
       "      <td>8.429345</td>\n",
       "      <td>64.101729</td>\n",
       "    </tr>\n",
       "    <tr>\n",
       "      <th>1</th>\n",
       "      <td>Aluno_2</td>\n",
       "      <td>6.792604</td>\n",
       "      <td>5.742838</td>\n",
       "      <td>8.672941</td>\n",
       "      <td>58.871977</td>\n",
       "    </tr>\n",
       "    <tr>\n",
       "      <th>2</th>\n",
       "      <td>Aluno_3</td>\n",
       "      <td>7.971533</td>\n",
       "      <td>5.883114</td>\n",
       "      <td>9.299661</td>\n",
       "      <td>87.530738</td>\n",
       "    </tr>\n",
       "    <tr>\n",
       "      <th>3</th>\n",
       "      <td>Aluno_4</td>\n",
       "      <td>9.284545</td>\n",
       "      <td>5.055901</td>\n",
       "      <td>9.264562</td>\n",
       "      <td>90.341737</td>\n",
       "    </tr>\n",
       "    <tr>\n",
       "      <th>4</th>\n",
       "      <td>Aluno_5</td>\n",
       "      <td>6.648770</td>\n",
       "      <td>6.209686</td>\n",
       "      <td>6.346797</td>\n",
       "      <td>99.525257</td>\n",
       "    </tr>\n",
       "    <tr>\n",
       "      <th>...</th>\n",
       "      <td>...</td>\n",
       "      <td>...</td>\n",
       "      <td>...</td>\n",
       "      <td>...</td>\n",
       "      <td>...</td>\n",
       "    </tr>\n",
       "    <tr>\n",
       "      <th>95</th>\n",
       "      <td>Aluno_96</td>\n",
       "      <td>4.804728</td>\n",
       "      <td>7.193571</td>\n",
       "      <td>7.168508</td>\n",
       "      <td>84.787434</td>\n",
       "    </tr>\n",
       "    <tr>\n",
       "      <th>96</th>\n",
       "      <td>Aluno_97</td>\n",
       "      <td>7.444180</td>\n",
       "      <td>4.909057</td>\n",
       "      <td>9.079520</td>\n",
       "      <td>72.727053</td>\n",
       "    </tr>\n",
       "    <tr>\n",
       "      <th>97</th>\n",
       "      <td>Aluno_98</td>\n",
       "      <td>7.391583</td>\n",
       "      <td>6.776705</td>\n",
       "      <td>8.368759</td>\n",
       "      <td>81.377904</td>\n",
       "    </tr>\n",
       "    <tr>\n",
       "      <th>98</th>\n",
       "      <td>Aluno_99</td>\n",
       "      <td>7.007670</td>\n",
       "      <td>6.604776</td>\n",
       "      <td>8.975435</td>\n",
       "      <td>79.215716</td>\n",
       "    </tr>\n",
       "    <tr>\n",
       "      <th>99</th>\n",
       "      <td>Aluno_100</td>\n",
       "      <td>6.648119</td>\n",
       "      <td>4.442653</td>\n",
       "      <td>8.755555</td>\n",
       "      <td>95.057901</td>\n",
       "    </tr>\n",
       "  </tbody>\n",
       "</table>\n",
       "<p>100 rows × 5 columns</p>\n",
       "</div>"
      ],
      "text/plain": [
       "        Aluno  Nota_Prova1  Nota_Prova2  Nota_Trabalho  Frequencia (%)\n",
       "0     Aluno_1     7.745071     3.952333       8.429345       64.101729\n",
       "1     Aluno_2     6.792604     5.742838       8.672941       58.871977\n",
       "2     Aluno_3     7.971533     5.883114       9.299661       87.530738\n",
       "3     Aluno_4     9.284545     5.055901       9.264562       90.341737\n",
       "4     Aluno_5     6.648770     6.209686       6.346797       99.525257\n",
       "..        ...          ...          ...            ...             ...\n",
       "95   Aluno_96     4.804728     7.193571       7.168508       84.787434\n",
       "96   Aluno_97     7.444180     4.909057       9.079520       72.727053\n",
       "97   Aluno_98     7.391583     6.776705       8.368759       81.377904\n",
       "98   Aluno_99     7.007670     6.604776       8.975435       79.215716\n",
       "99  Aluno_100     6.648119     4.442653       8.755555       95.057901\n",
       "\n",
       "[100 rows x 5 columns]"
      ]
     },
     "execution_count": 5,
     "metadata": {},
     "output_type": "execute_result"
    }
   ],
   "source": [
    "df_grafico = pd.read_csv('./Base_de_Dados_Acad_mica.csv') #leitura do arquivo e declarando df\n"
   ]
  },
  {
   "cell_type": "code",
   "execution_count": 9,
   "metadata": {},
   "outputs": [
    {
     "data": {
      "text/plain": [
       "6.84423022390886"
      ]
     },
     "execution_count": 9,
     "metadata": {},
     "output_type": "execute_result"
    }
   ],
   "source": [
    "df_grafico_media_prova1 = df_grafico['Nota_Prova1'].mean() #pegando media da prova 1\n",
    "df_grafico_media_prova1 #print media"
   ]
  },
  {
   "cell_type": "code",
   "execution_count": 11,
   "metadata": {},
   "outputs": [
    {
     "data": {
      "text/plain": [
       "6.809565562330431"
      ]
     },
     "execution_count": 11,
     "metadata": {},
     "output_type": "execute_result"
    }
   ],
   "source": [
    "df_grafico_mediana_prova1 =  df_grafico['Nota_Prova1'].median() #pegando mediana da prova 1\n",
    "df_grafico_mediana_prova1 #print mediana"
   ]
  },
  {
   "cell_type": "markdown",
   "metadata": {},
   "source": [
    "## Conclusão da Média e Mediana da prova 1 \n",
    "\n",
    "A conclusão que cheguei foi que tanto a media quanto a mediana são proximas, o que demostra que a sala teve uma distribuição de nota bem constante, entretanto, como a nota media foi de 6.8 isso demonstra que mais pessoas tiraram notas acima de 7 do que abaixo de 6."
   ]
  },
  {
   "cell_type": "code",
   "execution_count": 20,
   "metadata": {},
   "outputs": [
    {
     "data": {
      "text/plain": [
       "6.4535921792135325"
      ]
     },
     "execution_count": 20,
     "metadata": {},
     "output_type": "execute_result"
    }
   ],
   "source": [
    "media_aparada_porcentagem = 0.1\n",
    "df_grafico_nota_prova2 = df_grafico['Nota_Prova2']\n",
    "\n",
    "media_aparada = stats.trim_mean(df_grafico['Nota_Prova2'],proportiontocut=0.1)\n",
    "media_aparada\n"
   ]
  },
  {
   "cell_type": "markdown",
   "metadata": {},
   "source": [
    "## Conclusão Média Aparada Prova 2\n",
    "\n",
    "Podemos utilizar a media aparada pra reduzir a nossa amostra e tentar minimizar extremos, ou seja, tentar pegar uma amostragem mais limpa do que a maioria tirou, sendo assim nossa media de nota com a media aparada foi de 6.4, que junto do que analizamos acima, demostra um padrão q mais pessoas tiraram perto de 6 nessa amostragem."
   ]
  },
  {
   "cell_type": "code",
   "execution_count": null,
   "metadata": {},
   "outputs": [],
   "source": [
    "Q1 = df_grafico['Nota_Prova1'].quantile(0.25)\n",
    "Q3 = df_grafico['Nota_Prova1'].quantile(0.75)\n",
    "\n",
    "IQR = Q3 - Q1\n",
    "\n",
    "lim_inf = (Q1 - 1.5) * IQR\n",
    "lim_sup = (Q1 + 1.5) * IQR\n",
    "\n",
    "outliers = df_grafico[(df_grafico['Nota_Prova1'] < lim_inf | df_grafico['Nota_Prova1'] > lim_sup )]\n",
    "print(outliers)"
   ]
  },
  {
   "cell_type": "markdown",
   "metadata": {},
   "source": [
    "## Conclusão das outliers\n",
    "\n",
    "Há somente um outlier\n",
    " "
   ]
  },
  {
   "cell_type": "code",
   "execution_count": 26,
   "metadata": {},
   "outputs": [
    {
     "data": {
      "text/plain": [
       "5.889520808082887"
      ]
     },
     "execution_count": 26,
     "metadata": {},
     "output_type": "execute_result"
    }
   ],
   "source": [
    "amplitude = df_grafico['Nota_Trabalho'].max() - df_grafico['Nota_Trabalho'].min()\n",
    "amplitude"
   ]
  },
  {
   "cell_type": "code",
   "execution_count": 27,
   "metadata": {},
   "outputs": [
    {
     "data": {
      "text/plain": [
       "1.1845345518934007"
      ]
     },
     "execution_count": 27,
     "metadata": {},
     "output_type": "execute_result"
    }
   ],
   "source": [
    "desvio_padrao = df_grafico['Nota_Trabalho'].std()\n",
    "desvio_padrao"
   ]
  },
  {
   "cell_type": "markdown",
   "metadata": {},
   "source": [
    "## Conclusão Amplitude e Desvio\n",
    "\n",
    "Com base nos valores fornecidos, o desvio padrão mostra que os alunos tiraram notas u ponto a menos do "
   ]
  }
 ],
 "metadata": {
  "kernelspec": {
   "display_name": "base",
   "language": "python",
   "name": "python3"
  },
  "language_info": {
   "codemirror_mode": {
    "name": "ipython",
    "version": 3
   },
   "file_extension": ".py",
   "mimetype": "text/x-python",
   "name": "python",
   "nbconvert_exporter": "python",
   "pygments_lexer": "ipython3",
   "version": "3.11.7"
  }
 },
 "nbformat": 4,
 "nbformat_minor": 2
}
