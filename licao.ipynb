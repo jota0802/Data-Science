{
 "cells": [
  {
   "cell_type": "code",
   "execution_count": null,
   "metadata": {},
   "outputs": [],
   "source": [
    "#Apendendo Pandas"
   ]
  },
  {
   "cell_type": "markdown",
   "metadata": {},
   "source": [
    "!*PANDAS UTILS*!"
   ]
  },
  {
   "cell_type": "code",
   "execution_count": 6,
   "metadata": {},
   "outputs": [
    {
     "name": "stdout",
     "output_type": "stream",
     "text": [
      "Requirement already satisfied: pandas in c:\\programdata\\anaconda3\\lib\\site-packages (2.2.1)\n",
      "Requirement already satisfied: numpy<2,>=1.23.2 in c:\\programdata\\anaconda3\\lib\\site-packages (from pandas) (1.26.4)\n",
      "Requirement already satisfied: python-dateutil>=2.8.2 in c:\\programdata\\anaconda3\\lib\\site-packages (from pandas) (2.8.2)\n",
      "Requirement already satisfied: pytz>=2020.1 in c:\\programdata\\anaconda3\\lib\\site-packages (from pandas) (2023.3.post1)\n",
      "Requirement already satisfied: tzdata>=2022.7 in c:\\programdata\\anaconda3\\lib\\site-packages (from pandas) (2023.3)\n",
      "Requirement already satisfied: six>=1.5 in c:\\programdata\\anaconda3\\lib\\site-packages (from python-dateutil>=2.8.2->pandas) (1.16.0)\n",
      "Note: you may need to restart the kernel to use updated packages.\n"
     ]
    }
   ],
   "source": [
    "pip install pandas\n"
   ]
  },
  {
   "cell_type": "code",
   "execution_count": 7,
   "metadata": {},
   "outputs": [],
   "source": [
    "import pandas as pd"
   ]
  },
  {
   "cell_type": "code",
   "execution_count": null,
   "metadata": {},
   "outputs": [],
   "source": [
    "##utils\n",
    "# pd.read_csv(arquivo) le um arquivo\n",
    "# df.head(n) Mostra primeiras n linhas\n",
    "# df.tail(n) Mostra ultimas n linhas\n",
    "# df.shape() Retorna o numero de linhas e colunas\n",
    "# df.info() Retorna os tipos dos dados\n",
    "# df.describe() Resumo estatistico\n",
    "# df.dtypes\n",
    "\n",
    "# #pratica\n",
    "# df['coluna1'] seleciona a primeira coluna\n",
    "# df['coluna1','coluna2'] seleciona as 2 colunas\n",
    "# df.loc[linha,coluna] Seleciona valores por nome\n",
    "# df.iloc[linha,coluna] Seleciona valores pelo Indice\n",
    "# df[df['coluna'] > 10] Filtro (condional)\n",
    "# df[(df['coluna'] > 10) & (df['coluna2'] < 5)] Filtro (condional)\n",
    "# df[(df['coluna'] > 10) | (df['coluna2'] < 5)] Filtro (condional)\n",
    "\n",
    "#df['nova_col'] = df['col1] + df['col2'] Cria colunas\n",
    "# df.rename(columns =['col_antiga': ['col_nova']]) renomeia\n",
    "# df.drop(columns=['col1','col2']) exclui colunas\n",
    "# df.dropna() remove valores nulos\n",
    "# df.fillna(valor) adiciona valores a nulls\n",
    "# df['coluna'] = df['coluna'].astype(int) converte o tipo de dado\n",
    "# df.sort_values(by='coluna',ascending=False) ordena os valores\n",
    "\n",
    "# df['coluna'].value_counts() contagem de valores unicos\n",
    "# df['coluna'].mean() media\n",
    "# df['coluna'].sum() soma\n",
    "# df['coluna'].max() maximo\n",
    "# df['coluna'].min() minimo\n",
    "# df.groupby('coluna'['valor']).sum agrupa e calcula a soma\n",
    "\n",
    "# df['data'] = pd.to_datetime(df['data']) converte o valor em data\n",
    "\n",
    "# pd.concat([df1, df2]) Junta DataFrames verticalmente\n",
    "# df['coluna'].apply(lambda x: x*2) Aplica uma funcao/condicao em cada linha\n",
    "\n"
   ]
  }
 ],
 "metadata": {
  "kernelspec": {
   "display_name": "base",
   "language": "python",
   "name": "python3"
  },
  "language_info": {
   "codemirror_mode": {
    "name": "ipython",
    "version": 3
   },
   "file_extension": ".py",
   "mimetype": "text/x-python",
   "name": "python",
   "nbconvert_exporter": "python",
   "pygments_lexer": "ipython3",
   "version": "3.11.7"
  }
 },
 "nbformat": 4,
 "nbformat_minor": 2
}
